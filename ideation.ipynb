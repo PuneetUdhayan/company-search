{
 "cells": [
  {
   "attachments": {},
   "cell_type": "markdown",
   "metadata": {},
   "source": [
    "# Company search\n",
    "\n",
    "Perform company search using duck duck go serach engine"
   ]
  },
  {
   "cell_type": "code",
   "execution_count": 45,
   "metadata": {},
   "outputs": [],
   "source": [
    "import json\n",
    "import os \n",
    "from pprint import pprint\n",
    "import requests\n",
    "\n",
    "'''\n",
    "This sample makes a call to the Bing Web Search API with a query and returns relevant web search.\n",
    "Documentation: https://docs.microsoft.com/en-us/bing/search-apis/bing-web-search/overview\n",
    "'''\n",
    "\n",
    "# Add your Bing Search V7 subscription key and endpoint to your environment variables.\n",
    "subscription_key = \"c33936083a5240719da4a4935bd7f59b\"\n",
    "endpoint = \"https://api.bing.microsoft.com/v7.0/search\"\n",
    "\n",
    "# Query term(s) to search for. \n",
    "query = \"Graphene AI site:linkedin.com/company/\"\n",
    "\n",
    "# Construct a request\n",
    "mkt = 'en-US'\n",
    "params = { 'q': query, 'mkt': mkt, 'count':1 }\n",
    "headers = { 'Ocp-Apim-Subscription-Key': subscription_key }\n",
    "\n",
    "# Call the API\n",
    "\n",
    "response = requests.get(endpoint, headers=headers, params=params)\n",
    "\n"
   ]
  },
  {
   "cell_type": "code",
   "execution_count": 46,
   "metadata": {},
   "outputs": [
    {
     "data": {
      "text/plain": [
       "'{\"_type\": \"SearchResponse\", \"queryContext\": {\"originalQuery\": \"Graphene AI site:linkedin.com/company/\"}, \"webPages\": {\"webSearchUrl\": \"https://www.bing.com/search?q=Graphene+AI+site%3alinkedin.com%2fcompany%2f\", \"totalEstimatedMatches\": 4020000, \"value\": [{\"id\": \"https://api.bing.microsoft.com/api/v7/#WebPages.0\", \"name\": \"Graphene AI | LinkedIn\", \"url\": \"https://www.linkedin.com/company/graphene-services-pte-ltd\", \"thumbnailUrl\": \"https://www.bing.com/th?id=OIP.2HpJx8-le5zevk59TqUB5gAAAA&w=80&h=80&c=1&pid=5.1\", \"isFamilyFriendly\": true, \"displayUrl\": \"https://www.linkedin.com/company/graphene-services-pte-ltd\", \"snippet\": \"With offices in India, Singapore and the US, Graphene has delivered solutions across the globe. Graphene uses AI-empowered market research to provide unbiased insights faster and cheaper. Built by ...\", \"dateLastCrawled\": \"2023-05-04T19:43:00.0000000Z\", \"language\": \"en\", \"isNavigational\": false}]}, \"relatedSearches\": {\"id\": \"https://api.bing.microsoft.com/api/v7/#RelatedSearches\", \"value\": [{\"text\": \"graphene services\", \"displayText\": \"graphene services\", \"webSearchUrl\": \"https://www.bing.com/search?q=graphene+services\"}, {\"text\": \"the human brain and graphene\", \"displayText\": \"the human brain and graphene\", \"webSearchUrl\": \"https://www.bing.com/search?q=the+human+brain+and+graphene\"}, {\"text\": \"what\\'s new in graphene\", \"displayText\": \"what\\'s new in graphene\", \"webSearchUrl\": \"https://www.bing.com/search?q=what%27s+new+in+graphene\"}, {\"text\": \"graphene material project\", \"displayText\": \"graphene material project\", \"webSearchUrl\": \"https://www.bing.com/search?q=graphene+material+project\"}, {\"text\": \"inbrain ai\", \"displayText\": \"inbrain ai\", \"webSearchUrl\": \"https://www.bing.com/search?q=inbrain+ai\"}, {\"text\": \"graphene brain interface\", \"displayText\": \"graphene brain interface\", \"webSearchUrl\": \"https://www.bing.com/search?q=graphene+brain+interface\"}, {\"text\": \"graphene advancements\", \"displayText\": \"graphene advancements\", \"webSearchUrl\": \"https://www.bing.com/search?q=graphene+advancements\"}, {\"text\": \"graphene development\", \"displayText\": \"graphene development\", \"webSearchUrl\": \"https://www.bing.com/search?q=graphene+development\"}]}, \"rankingResponse\": {\"mainline\": {\"items\": [{\"answerType\": \"WebPages\", \"resultIndex\": 0, \"value\": {\"id\": \"https://api.bing.microsoft.com/api/v7/#WebPages.0\"}}, {\"answerType\": \"RelatedSearches\", \"value\": {\"id\": \"https://api.bing.microsoft.com/api/v7/#RelatedSearches\"}}]}}}'"
      ]
     },
     "execution_count": 46,
     "metadata": {},
     "output_type": "execute_result"
    }
   ],
   "source": [
    "json.dumps(response.json())"
   ]
  },
  {
   "cell_type": "code",
   "execution_count": 40,
   "metadata": {},
   "outputs": [],
   "source": [
    "import pyperclip\n",
    "pyperclip.copy(json.dumps(response.json()))"
   ]
  },
  {
   "cell_type": "code",
   "execution_count": 47,
   "metadata": {},
   "outputs": [
    {
     "data": {
      "text/plain": [
       "'https://www.linkedin.com/company/graphene-services-pte-ltd'"
      ]
     },
     "execution_count": 47,
     "metadata": {},
     "output_type": "execute_result"
    }
   ],
   "source": [
    "response.json()['webPages']['value'][0]['displayUrl']"
   ]
  },
  {
   "cell_type": "code",
   "execution_count": null,
   "metadata": {},
   "outputs": [],
   "source": []
  }
 ],
 "metadata": {
  "kernelspec": {
   "display_name": "env",
   "language": "python",
   "name": "python3"
  },
  "language_info": {
   "codemirror_mode": {
    "name": "ipython",
    "version": 3
   },
   "file_extension": ".py",
   "mimetype": "text/x-python",
   "name": "python",
   "nbconvert_exporter": "python",
   "pygments_lexer": "ipython3",
   "version": "3.8.3"
  },
  "orig_nbformat": 4
 },
 "nbformat": 4,
 "nbformat_minor": 2
}
